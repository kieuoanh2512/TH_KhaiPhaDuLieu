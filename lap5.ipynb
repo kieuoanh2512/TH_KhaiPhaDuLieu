{
  "nbformat": 4,
  "nbformat_minor": 0,
  "metadata": {
    "colab": {
      "provenance": []
    },
    "kernelspec": {
      "name": "python3",
      "display_name": "Python 3"
    },
    "language_info": {
      "name": "python"
    }
  },
  "cells": [
    {
      "cell_type": "code",
      "execution_count": null,
      "metadata": {
        "id": "uB3nkbQHauYA"
      },
      "outputs": [],
      "source": [
        "#Animating cumulative values over time\n",
        "#1Create a data set "
      ]
    },
    {
      "cell_type": "code",
      "source": [
        "import pandas as pd\n",
        "\n",
        "questions_per_library = pd.read_csv('stackoverflow.csv', parse_dates=True, index_col='creation_date'\n",
        ").loc[:,'pandas':'bokeh'].resample('1M').sum().cumsum().reindex(\n",
        "    pd.date_range('2008-08', '2021-10', freq='M')\n",
        ").fillna(0)\n",
        "questions_per_library.tail()"
      ],
      "metadata": {
        "colab": {
          "base_uri": "https://localhost:8080/",
          "height": 357
        },
        "id": "qGWac_nSbFqq",
        "outputId": "2b57be3b-a677-4fd6-d525-08303f029b6b"
      },
      "execution_count": null,
      "outputs": [
        {
          "output_type": "execute_result",
          "data": {
            "text/plain": [
              "              pandas  matplotlib    numpy  seaborn  geopandas  geoviews  \\\n",
              "2021-05-31  200734.0     57853.0  89812.0   6855.0     1456.0      57.0   \n",
              "2021-06-30  205065.0     58602.0  91026.0   7021.0     1522.0      57.0   \n",
              "2021-07-31  209235.0     59428.0  92254.0   7174.0     1579.0      62.0   \n",
              "2021-08-31  213410.0     60250.0  93349.0   7344.0     1631.0      62.0   \n",
              "2021-09-30  214919.0     60554.0  93797.0   7414.0     1652.0      63.0   \n",
              "\n",
              "            altair  yellowbrick   vega  holoviews  hvplot   bokeh  \n",
              "2021-05-31   716.0         46.0  532.0      513.0    84.0  4270.0  \n",
              "2021-06-30   760.0         48.0  557.0      521.0    88.0  4308.0  \n",
              "2021-07-31   781.0         50.0  572.0      528.0    89.0  4341.0  \n",
              "2021-08-31   797.0         52.0  589.0      541.0    92.0  4372.0  \n",
              "2021-09-30   804.0         54.0  598.0      542.0    92.0  4386.0  "
            ],
            "text/html": [
              "\n",
              "  <div id=\"df-6f335804-1040-4575-a196-711a9e9fb6b9\">\n",
              "    <div class=\"colab-df-container\">\n",
              "      <div>\n",
              "<style scoped>\n",
              "    .dataframe tbody tr th:only-of-type {\n",
              "        vertical-align: middle;\n",
              "    }\n",
              "\n",
              "    .dataframe tbody tr th {\n",
              "        vertical-align: top;\n",
              "    }\n",
              "\n",
              "    .dataframe thead th {\n",
              "        text-align: right;\n",
              "    }\n",
              "</style>\n",
              "<table border=\"1\" class=\"dataframe\">\n",
              "  <thead>\n",
              "    <tr style=\"text-align: right;\">\n",
              "      <th></th>\n",
              "      <th>pandas</th>\n",
              "      <th>matplotlib</th>\n",
              "      <th>numpy</th>\n",
              "      <th>seaborn</th>\n",
              "      <th>geopandas</th>\n",
              "      <th>geoviews</th>\n",
              "      <th>altair</th>\n",
              "      <th>yellowbrick</th>\n",
              "      <th>vega</th>\n",
              "      <th>holoviews</th>\n",
              "      <th>hvplot</th>\n",
              "      <th>bokeh</th>\n",
              "    </tr>\n",
              "  </thead>\n",
              "  <tbody>\n",
              "    <tr>\n",
              "      <th>2021-05-31</th>\n",
              "      <td>200734.0</td>\n",
              "      <td>57853.0</td>\n",
              "      <td>89812.0</td>\n",
              "      <td>6855.0</td>\n",
              "      <td>1456.0</td>\n",
              "      <td>57.0</td>\n",
              "      <td>716.0</td>\n",
              "      <td>46.0</td>\n",
              "      <td>532.0</td>\n",
              "      <td>513.0</td>\n",
              "      <td>84.0</td>\n",
              "      <td>4270.0</td>\n",
              "    </tr>\n",
              "    <tr>\n",
              "      <th>2021-06-30</th>\n",
              "      <td>205065.0</td>\n",
              "      <td>58602.0</td>\n",
              "      <td>91026.0</td>\n",
              "      <td>7021.0</td>\n",
              "      <td>1522.0</td>\n",
              "      <td>57.0</td>\n",
              "      <td>760.0</td>\n",
              "      <td>48.0</td>\n",
              "      <td>557.0</td>\n",
              "      <td>521.0</td>\n",
              "      <td>88.0</td>\n",
              "      <td>4308.0</td>\n",
              "    </tr>\n",
              "    <tr>\n",
              "      <th>2021-07-31</th>\n",
              "      <td>209235.0</td>\n",
              "      <td>59428.0</td>\n",
              "      <td>92254.0</td>\n",
              "      <td>7174.0</td>\n",
              "      <td>1579.0</td>\n",
              "      <td>62.0</td>\n",
              "      <td>781.0</td>\n",
              "      <td>50.0</td>\n",
              "      <td>572.0</td>\n",
              "      <td>528.0</td>\n",
              "      <td>89.0</td>\n",
              "      <td>4341.0</td>\n",
              "    </tr>\n",
              "    <tr>\n",
              "      <th>2021-08-31</th>\n",
              "      <td>213410.0</td>\n",
              "      <td>60250.0</td>\n",
              "      <td>93349.0</td>\n",
              "      <td>7344.0</td>\n",
              "      <td>1631.0</td>\n",
              "      <td>62.0</td>\n",
              "      <td>797.0</td>\n",
              "      <td>52.0</td>\n",
              "      <td>589.0</td>\n",
              "      <td>541.0</td>\n",
              "      <td>92.0</td>\n",
              "      <td>4372.0</td>\n",
              "    </tr>\n",
              "    <tr>\n",
              "      <th>2021-09-30</th>\n",
              "      <td>214919.0</td>\n",
              "      <td>60554.0</td>\n",
              "      <td>93797.0</td>\n",
              "      <td>7414.0</td>\n",
              "      <td>1652.0</td>\n",
              "      <td>63.0</td>\n",
              "      <td>804.0</td>\n",
              "      <td>54.0</td>\n",
              "      <td>598.0</td>\n",
              "      <td>542.0</td>\n",
              "      <td>92.0</td>\n",
              "      <td>4386.0</td>\n",
              "    </tr>\n",
              "  </tbody>\n",
              "</table>\n",
              "</div>\n",
              "      <button class=\"colab-df-convert\" onclick=\"convertToInteractive('df-6f335804-1040-4575-a196-711a9e9fb6b9')\"\n",
              "              title=\"Convert this dataframe to an interactive table.\"\n",
              "              style=\"display:none;\">\n",
              "        \n",
              "  <svg xmlns=\"http://www.w3.org/2000/svg\" height=\"24px\"viewBox=\"0 0 24 24\"\n",
              "       width=\"24px\">\n",
              "    <path d=\"M0 0h24v24H0V0z\" fill=\"none\"/>\n",
              "    <path d=\"M18.56 5.44l.94 2.06.94-2.06 2.06-.94-2.06-.94-.94-2.06-.94 2.06-2.06.94zm-11 1L8.5 8.5l.94-2.06 2.06-.94-2.06-.94L8.5 2.5l-.94 2.06-2.06.94zm10 10l.94 2.06.94-2.06 2.06-.94-2.06-.94-.94-2.06-.94 2.06-2.06.94z\"/><path d=\"M17.41 7.96l-1.37-1.37c-.4-.4-.92-.59-1.43-.59-.52 0-1.04.2-1.43.59L10.3 9.45l-7.72 7.72c-.78.78-.78 2.05 0 2.83L4 21.41c.39.39.9.59 1.41.59.51 0 1.02-.2 1.41-.59l7.78-7.78 2.81-2.81c.8-.78.8-2.07 0-2.86zM5.41 20L4 18.59l7.72-7.72 1.47 1.35L5.41 20z\"/>\n",
              "  </svg>\n",
              "      </button>\n",
              "      \n",
              "  <style>\n",
              "    .colab-df-container {\n",
              "      display:flex;\n",
              "      flex-wrap:wrap;\n",
              "      gap: 12px;\n",
              "    }\n",
              "\n",
              "    .colab-df-convert {\n",
              "      background-color: #E8F0FE;\n",
              "      border: none;\n",
              "      border-radius: 50%;\n",
              "      cursor: pointer;\n",
              "      display: none;\n",
              "      fill: #1967D2;\n",
              "      height: 32px;\n",
              "      padding: 0 0 0 0;\n",
              "      width: 32px;\n",
              "    }\n",
              "\n",
              "    .colab-df-convert:hover {\n",
              "      background-color: #E2EBFA;\n",
              "      box-shadow: 0px 1px 2px rgba(60, 64, 67, 0.3), 0px 1px 3px 1px rgba(60, 64, 67, 0.15);\n",
              "      fill: #174EA6;\n",
              "    }\n",
              "\n",
              "    [theme=dark] .colab-df-convert {\n",
              "      background-color: #3B4455;\n",
              "      fill: #D2E3FC;\n",
              "    }\n",
              "\n",
              "    [theme=dark] .colab-df-convert:hover {\n",
              "      background-color: #434B5C;\n",
              "      box-shadow: 0px 1px 3px 1px rgba(0, 0, 0, 0.15);\n",
              "      filter: drop-shadow(0px 1px 2px rgba(0, 0, 0, 0.3));\n",
              "      fill: #FFFFFF;\n",
              "    }\n",
              "  </style>\n",
              "\n",
              "      <script>\n",
              "        const buttonEl =\n",
              "          document.querySelector('#df-6f335804-1040-4575-a196-711a9e9fb6b9 button.colab-df-convert');\n",
              "        buttonEl.style.display =\n",
              "          google.colab.kernel.accessAllowed ? 'block' : 'none';\n",
              "\n",
              "        async function convertToInteractive(key) {\n",
              "          const element = document.querySelector('#df-6f335804-1040-4575-a196-711a9e9fb6b9');\n",
              "          const dataTable =\n",
              "            await google.colab.kernel.invokeFunction('convertToInteractive',\n",
              "                                                     [key], {});\n",
              "          if (!dataTable) return;\n",
              "\n",
              "          const docLinkHtml = 'Like what you see? Visit the ' +\n",
              "            '<a target=\"_blank\" href=https://colab.research.google.com/notebooks/data_table.ipynb>data table notebook</a>'\n",
              "            + ' to learn more about interactive tables.';\n",
              "          element.innerHTML = '';\n",
              "          dataTable['output_type'] = 'display_data';\n",
              "          await google.colab.output.renderOutput(dataTable, element);\n",
              "          const docLink = document.createElement('div');\n",
              "          docLink.innerHTML = docLinkHtml;\n",
              "          element.appendChild(docLink);\n",
              "        }\n",
              "      </script>\n",
              "    </div>\n",
              "  </div>\n",
              "  "
            ]
          },
          "metadata": {},
          "execution_count": 16
        }
      ]
    },
    {
      "cell_type": "code",
      "source": [
        "#2 Import the FuncAnimation class"
      ],
      "metadata": {
        "id": "TQsEWUGxnjHS"
      },
      "execution_count": null,
      "outputs": []
    },
    {
      "cell_type": "code",
      "source": [
        "from matplotlib.animation import FuncAnimation"
      ],
      "metadata": {
        "id": "MsORyN-9nou7"
      },
      "execution_count": null,
      "outputs": []
    },
    {
      "cell_type": "code",
      "source": [
        "#3Write a function"
      ],
      "metadata": {
        "id": "VqOtCNJQsjri"
      },
      "execution_count": null,
      "outputs": []
    },
    {
      "cell_type": "code",
      "source": [
        "import matplotlib.pyplot as plt\n",
        "from matplotlib import ticker\n",
        "def bar_plot(data):\n",
        "  fig, ax = plt.subplots(figsize=(8, 6))\n",
        "  sort_order = data.last('1M').squeeze().sort_values().index\n",
        "  bars = [\n",
        "      bar.set_label(label) for label, bar in\n",
        "      zip(sort_order, ax.barh(sort_order, [0] * data.shape[1]))\n",
        "  ]\n",
        "\n",
        "  ax.set_xlabel('total questions', fontweight='bold')\n",
        "  ax.set_xlim(0,250_000)\n",
        "  ax.xaxis.set_major_formatter(ticker.EngFormatter())\n",
        "  ax.xaxis.set_tick_params(labelsize=12)\n",
        "  ax.yaxis.set_tick_params(labelsize=12)\n",
        "\n",
        "  for spine in ['top', 'right']:\n",
        "    ax.spines[spine].set_visible(False)\n",
        "\n",
        "  fig.tight_layout()\n",
        "  return fig, ax"
      ],
      "metadata": {
        "id": "2c3V1dixn9cv"
      },
      "execution_count": null,
      "outputs": []
    },
    {
      "cell_type": "code",
      "source": [
        "%config InlineBackend.figure_formats = ['svg']\n",
        "%matplotlib inline\n",
        "bar_plot(questions_per_library)"
      ],
      "metadata": {
        "colab": {
          "base_uri": "https://localhost:8080/",
          "height": 623
        },
        "id": "4uyk8sLwqHTk",
        "outputId": "cbc458ac-9137-469e-fbd7-d12b55f155ae"
      },
      "execution_count": null,
      "outputs": [
        {
          "output_type": "execute_result",
          "data": {
            "text/plain": [
              "(<Figure size 800x600 with 1 Axes>, <Axes: xlabel='total questions'>)"
            ]
          },
          "metadata": {},
          "execution_count": 29
        },
        {
          "output_type": "display_data",
          "data": {
            "text/plain": [
              "<Figure size 800x600 with 1 Axes>"
            ],
            "image/svg+xml": "<?xml version=\"1.0\" encoding=\"utf-8\" standalone=\"no\"?>\n<!DOCTYPE svg PUBLIC \"-//W3C//DTD SVG 1.1//EN\"\n  \"http://www.w3.org/Graphics/SVG/1.1/DTD/svg11.dtd\">\n<svg xmlns:xlink=\"http://www.w3.org/1999/xlink\" width=\"568.910625pt\" height=\"423.051875pt\" viewBox=\"0 0 568.910625 423.051875\" xmlns=\"http://www.w3.org/2000/svg\" version=\"1.1\">\n <metadata>\n  <rdf:RDF xmlns:dc=\"http://purl.org/dc/elements/1.1/\" xmlns:cc=\"http://creativecommons.org/ns#\" xmlns:rdf=\"http://www.w3.org/1999/02/22-rdf-syntax-ns#\">\n   <cc:Work>\n    <dc:type rdf:resource=\"http://purl.org/dc/dcmitype/StillImage\"/>\n    <dc:date>2023-05-05T02:16:00.974936</dc:date>\n    <dc:format>image/svg+xml</dc:format>\n    <dc:creator>\n     <cc:Agent>\n      <dc:title>Matplotlib v3.7.1, https://matplotlib.org/</dc:title>\n     </cc:Agent>\n    </dc:creator>\n   </cc:Work>\n  </rdf:RDF>\n </metadata>\n <defs>\n  <style type=\"text/css\">*{stroke-linejoin: round; stroke-linecap: butt}</style>\n </defs>\n <g id=\"figure_1\">\n  <g id=\"patch_1\">\n   <path d=\"M 0 423.051875 \nL 568.910625 423.051875 \nL 568.910625 0 \nL 0 0 \nz\n\" style=\"fill: #ffffff\"/>\n  </g>\n  <g id=\"axes_1\">\n   <g id=\"patch_2\">\n    <path d=\"M 81.941875 383.56 \nL 544.876875 383.56 \nL 544.876875 7.2 \nL 81.941875 7.2 \nz\n\" style=\"fill: #ffffff\"/>\n   </g>\n   <g id=\"patch_3\">\n    <path d=\"M 81.941875 366.452727 \nL 81.941875 366.452727 \nL 81.941875 343.256425 \nL 81.941875 343.256425 \nz\n\" clip-path=\"url(#pf5ead192ac)\" style=\"fill: #1f77b4\"/>\n   </g>\n   <g id=\"patch_4\">\n    <path d=\"M 81.941875 337.45735 \nL 81.941875 337.45735 \nL 81.941875 314.261048 \nL 81.941875 314.261048 \nz\n\" clip-path=\"url(#pf5ead192ac)\" style=\"fill: #1f77b4\"/>\n   </g>\n   <g id=\"patch_5\">\n    <path d=\"M 81.941875 308.461972 \nL 81.941875 308.461972 \nL 81.941875 285.26567 \nL 81.941875 285.26567 \nz\n\" clip-path=\"url(#pf5ead192ac)\" style=\"fill: #1f77b4\"/>\n   </g>\n   <g id=\"patch_6\">\n    <path d=\"M 81.941875 279.466595 \nL 81.941875 279.466595 \nL 81.941875 256.270293 \nL 81.941875 256.270293 \nz\n\" clip-path=\"url(#pf5ead192ac)\" style=\"fill: #1f77b4\"/>\n   </g>\n   <g id=\"patch_7\">\n    <path d=\"M 81.941875 250.471217 \nL 81.941875 250.471217 \nL 81.941875 227.274915 \nL 81.941875 227.274915 \nz\n\" clip-path=\"url(#pf5ead192ac)\" style=\"fill: #1f77b4\"/>\n   </g>\n   <g id=\"patch_8\">\n    <path d=\"M 81.941875 221.47584 \nL 81.941875 221.47584 \nL 81.941875 198.279538 \nL 81.941875 198.279538 \nz\n\" clip-path=\"url(#pf5ead192ac)\" style=\"fill: #1f77b4\"/>\n   </g>\n   <g id=\"patch_9\">\n    <path d=\"M 81.941875 192.480462 \nL 81.941875 192.480462 \nL 81.941875 169.28416 \nL 81.941875 169.28416 \nz\n\" clip-path=\"url(#pf5ead192ac)\" style=\"fill: #1f77b4\"/>\n   </g>\n   <g id=\"patch_10\">\n    <path d=\"M 81.941875 163.485085 \nL 81.941875 163.485085 \nL 81.941875 140.288783 \nL 81.941875 140.288783 \nz\n\" clip-path=\"url(#pf5ead192ac)\" style=\"fill: #1f77b4\"/>\n   </g>\n   <g id=\"patch_11\">\n    <path d=\"M 81.941875 134.489707 \nL 81.941875 134.489707 \nL 81.941875 111.293405 \nL 81.941875 111.293405 \nz\n\" clip-path=\"url(#pf5ead192ac)\" style=\"fill: #1f77b4\"/>\n   </g>\n   <g id=\"patch_12\">\n    <path d=\"M 81.941875 105.49433 \nL 81.941875 105.49433 \nL 81.941875 82.298028 \nL 81.941875 82.298028 \nz\n\" clip-path=\"url(#pf5ead192ac)\" style=\"fill: #1f77b4\"/>\n   </g>\n   <g id=\"patch_13\">\n    <path d=\"M 81.941875 76.498952 \nL 81.941875 76.498952 \nL 81.941875 53.30265 \nL 81.941875 53.30265 \nz\n\" clip-path=\"url(#pf5ead192ac)\" style=\"fill: #1f77b4\"/>\n   </g>\n   <g id=\"patch_14\">\n    <path d=\"M 81.941875 47.503575 \nL 81.941875 47.503575 \nL 81.941875 24.307273 \nL 81.941875 24.307273 \nz\n\" clip-path=\"url(#pf5ead192ac)\" style=\"fill: #1f77b4\"/>\n   </g>\n   <g id=\"matplotlib.axis_1\">\n    <g id=\"xtick_1\">\n     <g id=\"line2d_1\">\n      <defs>\n       <path id=\"mabe3691f1f\" d=\"M 0 0 \nL 0 3.5 \n\" style=\"stroke: #000000; stroke-width: 0.8\"/>\n      </defs>\n      <g>\n       <use xlink:href=\"#mabe3691f1f\" x=\"81.941875\" y=\"383.56\" style=\"stroke: #000000; stroke-width: 0.8\"/>\n      </g>\n     </g>\n     <g id=\"text_1\">\n      <!-- 0 -->\n      <g transform=\"translate(78.124375 399.678125) scale(0.12 -0.12)\">\n       <defs>\n        <path id=\"DejaVuSans-30\" d=\"M 2034 4250 \nQ 1547 4250 1301 3770 \nQ 1056 3291 1056 2328 \nQ 1056 1369 1301 889 \nQ 1547 409 2034 409 \nQ 2525 409 2770 889 \nQ 3016 1369 3016 2328 \nQ 3016 3291 2770 3770 \nQ 2525 4250 2034 4250 \nz\nM 2034 4750 \nQ 2819 4750 3233 4129 \nQ 3647 3509 3647 2328 \nQ 3647 1150 3233 529 \nQ 2819 -91 2034 -91 \nQ 1250 -91 836 529 \nQ 422 1150 422 2328 \nQ 422 3509 836 4129 \nQ 1250 4750 2034 4750 \nz\n\" transform=\"scale(0.015625)\"/>\n       </defs>\n       <use xlink:href=\"#DejaVuSans-30\"/>\n      </g>\n     </g>\n    </g>\n    <g id=\"xtick_2\">\n     <g id=\"line2d_2\">\n      <g>\n       <use xlink:href=\"#mabe3691f1f\" x=\"174.528875\" y=\"383.56\" style=\"stroke: #000000; stroke-width: 0.8\"/>\n      </g>\n     </g>\n     <g id=\"text_2\">\n      <!-- 50 k -->\n      <g transform=\"translate(161.512625 399.678125) scale(0.12 -0.12)\">\n       <defs>\n        <path id=\"DejaVuSans-35\" d=\"M 691 4666 \nL 3169 4666 \nL 3169 4134 \nL 1269 4134 \nL 1269 2991 \nQ 1406 3038 1543 3061 \nQ 1681 3084 1819 3084 \nQ 2600 3084 3056 2656 \nQ 3513 2228 3513 1497 \nQ 3513 744 3044 326 \nQ 2575 -91 1722 -91 \nQ 1428 -91 1123 -41 \nQ 819 9 494 109 \nL 494 744 \nQ 775 591 1075 516 \nQ 1375 441 1709 441 \nQ 2250 441 2565 725 \nQ 2881 1009 2881 1497 \nQ 2881 1984 2565 2268 \nQ 2250 2553 1709 2553 \nQ 1456 2553 1204 2497 \nQ 953 2441 691 2322 \nL 691 4666 \nz\n\" transform=\"scale(0.015625)\"/>\n        <path id=\"DejaVuSans-20\" transform=\"scale(0.015625)\"/>\n        <path id=\"DejaVuSans-6b\" d=\"M 581 4863 \nL 1159 4863 \nL 1159 1991 \nL 2875 3500 \nL 3609 3500 \nL 1753 1863 \nL 3688 0 \nL 2938 0 \nL 1159 1709 \nL 1159 0 \nL 581 0 \nL 581 4863 \nz\n\" transform=\"scale(0.015625)\"/>\n       </defs>\n       <use xlink:href=\"#DejaVuSans-35\"/>\n       <use xlink:href=\"#DejaVuSans-30\" x=\"63.623047\"/>\n       <use xlink:href=\"#DejaVuSans-20\" x=\"127.246094\"/>\n       <use xlink:href=\"#DejaVuSans-6b\" x=\"159.033203\"/>\n      </g>\n     </g>\n    </g>\n    <g id=\"xtick_3\">\n     <g id=\"line2d_3\">\n      <g>\n       <use xlink:href=\"#mabe3691f1f\" x=\"267.115875\" y=\"383.56\" style=\"stroke: #000000; stroke-width: 0.8\"/>\n      </g>\n     </g>\n     <g id=\"text_3\">\n      <!-- 100 k -->\n      <g transform=\"translate(250.282125 399.678125) scale(0.12 -0.12)\">\n       <defs>\n        <path id=\"DejaVuSans-31\" d=\"M 794 531 \nL 1825 531 \nL 1825 4091 \nL 703 3866 \nL 703 4441 \nL 1819 4666 \nL 2450 4666 \nL 2450 531 \nL 3481 531 \nL 3481 0 \nL 794 0 \nL 794 531 \nz\n\" transform=\"scale(0.015625)\"/>\n       </defs>\n       <use xlink:href=\"#DejaVuSans-31\"/>\n       <use xlink:href=\"#DejaVuSans-30\" x=\"63.623047\"/>\n       <use xlink:href=\"#DejaVuSans-30\" x=\"127.246094\"/>\n       <use xlink:href=\"#DejaVuSans-20\" x=\"190.869141\"/>\n       <use xlink:href=\"#DejaVuSans-6b\" x=\"222.65625\"/>\n      </g>\n     </g>\n    </g>\n    <g id=\"xtick_4\">\n     <g id=\"line2d_4\">\n      <g>\n       <use xlink:href=\"#mabe3691f1f\" x=\"359.702875\" y=\"383.56\" style=\"stroke: #000000; stroke-width: 0.8\"/>\n      </g>\n     </g>\n     <g id=\"text_4\">\n      <!-- 150 k -->\n      <g transform=\"translate(342.869125 399.678125) scale(0.12 -0.12)\">\n       <use xlink:href=\"#DejaVuSans-31\"/>\n       <use xlink:href=\"#DejaVuSans-35\" x=\"63.623047\"/>\n       <use xlink:href=\"#DejaVuSans-30\" x=\"127.246094\"/>\n       <use xlink:href=\"#DejaVuSans-20\" x=\"190.869141\"/>\n       <use xlink:href=\"#DejaVuSans-6b\" x=\"222.65625\"/>\n      </g>\n     </g>\n    </g>\n    <g id=\"xtick_5\">\n     <g id=\"line2d_5\">\n      <g>\n       <use xlink:href=\"#mabe3691f1f\" x=\"452.289875\" y=\"383.56\" style=\"stroke: #000000; stroke-width: 0.8\"/>\n      </g>\n     </g>\n     <g id=\"text_5\">\n      <!-- 200 k -->\n      <g transform=\"translate(435.456125 399.678125) scale(0.12 -0.12)\">\n       <defs>\n        <path id=\"DejaVuSans-32\" d=\"M 1228 531 \nL 3431 531 \nL 3431 0 \nL 469 0 \nL 469 531 \nQ 828 903 1448 1529 \nQ 2069 2156 2228 2338 \nQ 2531 2678 2651 2914 \nQ 2772 3150 2772 3378 \nQ 2772 3750 2511 3984 \nQ 2250 4219 1831 4219 \nQ 1534 4219 1204 4116 \nQ 875 4013 500 3803 \nL 500 4441 \nQ 881 4594 1212 4672 \nQ 1544 4750 1819 4750 \nQ 2544 4750 2975 4387 \nQ 3406 4025 3406 3419 \nQ 3406 3131 3298 2873 \nQ 3191 2616 2906 2266 \nQ 2828 2175 2409 1742 \nQ 1991 1309 1228 531 \nz\n\" transform=\"scale(0.015625)\"/>\n       </defs>\n       <use xlink:href=\"#DejaVuSans-32\"/>\n       <use xlink:href=\"#DejaVuSans-30\" x=\"63.623047\"/>\n       <use xlink:href=\"#DejaVuSans-30\" x=\"127.246094\"/>\n       <use xlink:href=\"#DejaVuSans-20\" x=\"190.869141\"/>\n       <use xlink:href=\"#DejaVuSans-6b\" x=\"222.65625\"/>\n      </g>\n     </g>\n    </g>\n    <g id=\"xtick_6\">\n     <g id=\"line2d_6\">\n      <g>\n       <use xlink:href=\"#mabe3691f1f\" x=\"544.876875\" y=\"383.56\" style=\"stroke: #000000; stroke-width: 0.8\"/>\n      </g>\n     </g>\n     <g id=\"text_6\">\n      <!-- 250 k -->\n      <g transform=\"translate(528.043125 399.678125) scale(0.12 -0.12)\">\n       <use xlink:href=\"#DejaVuSans-32\"/>\n       <use xlink:href=\"#DejaVuSans-35\" x=\"63.623047\"/>\n       <use xlink:href=\"#DejaVuSans-30\" x=\"127.246094\"/>\n       <use xlink:href=\"#DejaVuSans-20\" x=\"190.869141\"/>\n       <use xlink:href=\"#DejaVuSans-6b\" x=\"222.65625\"/>\n      </g>\n     </g>\n    </g>\n    <g id=\"text_7\">\n     <!-- total questions -->\n     <g transform=\"translate(270.785937 413.772187) scale(0.1 -0.1)\">\n      <defs>\n       <path id=\"DejaVuSans-Bold-74\" d=\"M 1759 4494 \nL 1759 3500 \nL 2913 3500 \nL 2913 2700 \nL 1759 2700 \nL 1759 1216 \nQ 1759 972 1856 886 \nQ 1953 800 2241 800 \nL 2816 800 \nL 2816 0 \nL 1856 0 \nQ 1194 0 917 276 \nQ 641 553 641 1216 \nL 641 2700 \nL 84 2700 \nL 84 3500 \nL 641 3500 \nL 641 4494 \nL 1759 4494 \nz\n\" transform=\"scale(0.015625)\"/>\n       <path id=\"DejaVuSans-Bold-6f\" d=\"M 2203 2784 \nQ 1831 2784 1636 2517 \nQ 1441 2250 1441 1747 \nQ 1441 1244 1636 976 \nQ 1831 709 2203 709 \nQ 2569 709 2762 976 \nQ 2956 1244 2956 1747 \nQ 2956 2250 2762 2517 \nQ 2569 2784 2203 2784 \nz\nM 2203 3584 \nQ 3106 3584 3614 3096 \nQ 4122 2609 4122 1747 \nQ 4122 884 3614 396 \nQ 3106 -91 2203 -91 \nQ 1297 -91 786 396 \nQ 275 884 275 1747 \nQ 275 2609 786 3096 \nQ 1297 3584 2203 3584 \nz\n\" transform=\"scale(0.015625)\"/>\n       <path id=\"DejaVuSans-Bold-61\" d=\"M 2106 1575 \nQ 1756 1575 1579 1456 \nQ 1403 1338 1403 1106 \nQ 1403 894 1545 773 \nQ 1688 653 1941 653 \nQ 2256 653 2472 879 \nQ 2688 1106 2688 1447 \nL 2688 1575 \nL 2106 1575 \nz\nM 3816 1997 \nL 3816 0 \nL 2688 0 \nL 2688 519 \nQ 2463 200 2181 54 \nQ 1900 -91 1497 -91 \nQ 953 -91 614 226 \nQ 275 544 275 1050 \nQ 275 1666 698 1953 \nQ 1122 2241 2028 2241 \nL 2688 2241 \nL 2688 2328 \nQ 2688 2594 2478 2717 \nQ 2269 2841 1825 2841 \nQ 1466 2841 1156 2769 \nQ 847 2697 581 2553 \nL 581 3406 \nQ 941 3494 1303 3539 \nQ 1666 3584 2028 3584 \nQ 2975 3584 3395 3211 \nQ 3816 2838 3816 1997 \nz\n\" transform=\"scale(0.015625)\"/>\n       <path id=\"DejaVuSans-Bold-6c\" d=\"M 538 4863 \nL 1656 4863 \nL 1656 0 \nL 538 0 \nL 538 4863 \nz\n\" transform=\"scale(0.015625)\"/>\n       <path id=\"DejaVuSans-Bold-20\" transform=\"scale(0.015625)\"/>\n       <path id=\"DejaVuSans-Bold-71\" d=\"M 2181 2772 \nQ 1825 2772 1636 2509 \nQ 1447 2247 1447 1747 \nQ 1447 1247 1636 984 \nQ 1825 722 2181 722 \nQ 2541 722 2730 984 \nQ 2919 1247 2919 1747 \nQ 2919 2247 2730 2509 \nQ 2541 2772 2181 2772 \nz\nM 2919 506 \nQ 2688 197 2409 53 \nQ 2131 -91 1766 -91 \nQ 1119 -91 703 423 \nQ 288 938 288 1747 \nQ 288 2556 703 3067 \nQ 1119 3578 1766 3578 \nQ 2131 3578 2409 3434 \nQ 2688 3291 2919 2981 \nL 2919 3500 \nL 4044 3500 \nL 4044 -1331 \nL 2919 -1331 \nL 2919 506 \nz\n\" transform=\"scale(0.015625)\"/>\n       <path id=\"DejaVuSans-Bold-75\" d=\"M 500 1363 \nL 500 3500 \nL 1625 3500 \nL 1625 3150 \nQ 1625 2866 1622 2436 \nQ 1619 2006 1619 1863 \nQ 1619 1441 1641 1255 \nQ 1663 1069 1716 984 \nQ 1784 875 1895 815 \nQ 2006 756 2150 756 \nQ 2500 756 2700 1025 \nQ 2900 1294 2900 1772 \nL 2900 3500 \nL 4019 3500 \nL 4019 0 \nL 2900 0 \nL 2900 506 \nQ 2647 200 2364 54 \nQ 2081 -91 1741 -91 \nQ 1134 -91 817 281 \nQ 500 653 500 1363 \nz\n\" transform=\"scale(0.015625)\"/>\n       <path id=\"DejaVuSans-Bold-65\" d=\"M 4031 1759 \nL 4031 1441 \nL 1416 1441 \nQ 1456 1047 1700 850 \nQ 1944 653 2381 653 \nQ 2734 653 3104 758 \nQ 3475 863 3866 1075 \nL 3866 213 \nQ 3469 63 3072 -14 \nQ 2675 -91 2278 -91 \nQ 1328 -91 801 392 \nQ 275 875 275 1747 \nQ 275 2603 792 3093 \nQ 1309 3584 2216 3584 \nQ 3041 3584 3536 3087 \nQ 4031 2591 4031 1759 \nz\nM 2881 2131 \nQ 2881 2450 2695 2645 \nQ 2509 2841 2209 2841 \nQ 1884 2841 1681 2658 \nQ 1478 2475 1428 2131 \nL 2881 2131 \nz\n\" transform=\"scale(0.015625)\"/>\n       <path id=\"DejaVuSans-Bold-73\" d=\"M 3272 3391 \nL 3272 2541 \nQ 2913 2691 2578 2766 \nQ 2244 2841 1947 2841 \nQ 1628 2841 1473 2761 \nQ 1319 2681 1319 2516 \nQ 1319 2381 1436 2309 \nQ 1553 2238 1856 2203 \nL 2053 2175 \nQ 2913 2066 3209 1816 \nQ 3506 1566 3506 1031 \nQ 3506 472 3093 190 \nQ 2681 -91 1863 -91 \nQ 1516 -91 1145 -36 \nQ 775 19 384 128 \nL 384 978 \nQ 719 816 1070 734 \nQ 1422 653 1784 653 \nQ 2113 653 2278 743 \nQ 2444 834 2444 1013 \nQ 2444 1163 2330 1236 \nQ 2216 1309 1875 1350 \nL 1678 1375 \nQ 931 1469 631 1722 \nQ 331 1975 331 2491 \nQ 331 3047 712 3315 \nQ 1094 3584 1881 3584 \nQ 2191 3584 2531 3537 \nQ 2872 3491 3272 3391 \nz\n\" transform=\"scale(0.015625)\"/>\n       <path id=\"DejaVuSans-Bold-69\" d=\"M 538 3500 \nL 1656 3500 \nL 1656 0 \nL 538 0 \nL 538 3500 \nz\nM 538 4863 \nL 1656 4863 \nL 1656 3950 \nL 538 3950 \nL 538 4863 \nz\n\" transform=\"scale(0.015625)\"/>\n       <path id=\"DejaVuSans-Bold-6e\" d=\"M 4056 2131 \nL 4056 0 \nL 2931 0 \nL 2931 347 \nL 2931 1631 \nQ 2931 2084 2911 2256 \nQ 2891 2428 2841 2509 \nQ 2775 2619 2662 2680 \nQ 2550 2741 2406 2741 \nQ 2056 2741 1856 2470 \nQ 1656 2200 1656 1722 \nL 1656 0 \nL 538 0 \nL 538 3500 \nL 1656 3500 \nL 1656 2988 \nQ 1909 3294 2193 3439 \nQ 2478 3584 2822 3584 \nQ 3428 3584 3742 3212 \nQ 4056 2841 4056 2131 \nz\n\" transform=\"scale(0.015625)\"/>\n      </defs>\n      <use xlink:href=\"#DejaVuSans-Bold-74\"/>\n      <use xlink:href=\"#DejaVuSans-Bold-6f\" x=\"47.802734\"/>\n      <use xlink:href=\"#DejaVuSans-Bold-74\" x=\"116.503906\"/>\n      <use xlink:href=\"#DejaVuSans-Bold-61\" x=\"164.306641\"/>\n      <use xlink:href=\"#DejaVuSans-Bold-6c\" x=\"231.787109\"/>\n      <use xlink:href=\"#DejaVuSans-Bold-20\" x=\"266.064453\"/>\n      <use xlink:href=\"#DejaVuSans-Bold-71\" x=\"300.878906\"/>\n      <use xlink:href=\"#DejaVuSans-Bold-75\" x=\"372.460938\"/>\n      <use xlink:href=\"#DejaVuSans-Bold-65\" x=\"443.652344\"/>\n      <use xlink:href=\"#DejaVuSans-Bold-73\" x=\"511.474609\"/>\n      <use xlink:href=\"#DejaVuSans-Bold-74\" x=\"570.996094\"/>\n      <use xlink:href=\"#DejaVuSans-Bold-69\" x=\"618.798828\"/>\n      <use xlink:href=\"#DejaVuSans-Bold-6f\" x=\"653.076172\"/>\n      <use xlink:href=\"#DejaVuSans-Bold-6e\" x=\"721.777344\"/>\n      <use xlink:href=\"#DejaVuSans-Bold-73\" x=\"792.96875\"/>\n     </g>\n    </g>\n   </g>\n   <g id=\"matplotlib.axis_2\">\n    <g id=\"ytick_1\">\n     <g id=\"line2d_7\">\n      <defs>\n       <path id=\"mc926268b28\" d=\"M 0 0 \nL -3.5 0 \n\" style=\"stroke: #000000; stroke-width: 0.8\"/>\n      </defs>\n      <g>\n       <use xlink:href=\"#mc926268b28\" x=\"81.941875\" y=\"354.854576\" style=\"stroke: #000000; stroke-width: 0.8\"/>\n      </g>\n     </g>\n     <g id=\"text_8\">\n      <!-- yellowbrick -->\n      <g transform=\"translate(7.2 359.413639) scale(0.12 -0.12)\">\n       <defs>\n        <path id=\"DejaVuSans-79\" d=\"M 2059 -325 \nQ 1816 -950 1584 -1140 \nQ 1353 -1331 966 -1331 \nL 506 -1331 \nL 506 -850 \nL 844 -850 \nQ 1081 -850 1212 -737 \nQ 1344 -625 1503 -206 \nL 1606 56 \nL 191 3500 \nL 800 3500 \nL 1894 763 \nL 2988 3500 \nL 3597 3500 \nL 2059 -325 \nz\n\" transform=\"scale(0.015625)\"/>\n        <path id=\"DejaVuSans-65\" d=\"M 3597 1894 \nL 3597 1613 \nL 953 1613 \nQ 991 1019 1311 708 \nQ 1631 397 2203 397 \nQ 2534 397 2845 478 \nQ 3156 559 3463 722 \nL 3463 178 \nQ 3153 47 2828 -22 \nQ 2503 -91 2169 -91 \nQ 1331 -91 842 396 \nQ 353 884 353 1716 \nQ 353 2575 817 3079 \nQ 1281 3584 2069 3584 \nQ 2775 3584 3186 3129 \nQ 3597 2675 3597 1894 \nz\nM 3022 2063 \nQ 3016 2534 2758 2815 \nQ 2500 3097 2075 3097 \nQ 1594 3097 1305 2825 \nQ 1016 2553 972 2059 \nL 3022 2063 \nz\n\" transform=\"scale(0.015625)\"/>\n        <path id=\"DejaVuSans-6c\" d=\"M 603 4863 \nL 1178 4863 \nL 1178 0 \nL 603 0 \nL 603 4863 \nz\n\" transform=\"scale(0.015625)\"/>\n        <path id=\"DejaVuSans-6f\" d=\"M 1959 3097 \nQ 1497 3097 1228 2736 \nQ 959 2375 959 1747 \nQ 959 1119 1226 758 \nQ 1494 397 1959 397 \nQ 2419 397 2687 759 \nQ 2956 1122 2956 1747 \nQ 2956 2369 2687 2733 \nQ 2419 3097 1959 3097 \nz\nM 1959 3584 \nQ 2709 3584 3137 3096 \nQ 3566 2609 3566 1747 \nQ 3566 888 3137 398 \nQ 2709 -91 1959 -91 \nQ 1206 -91 779 398 \nQ 353 888 353 1747 \nQ 353 2609 779 3096 \nQ 1206 3584 1959 3584 \nz\n\" transform=\"scale(0.015625)\"/>\n        <path id=\"DejaVuSans-77\" d=\"M 269 3500 \nL 844 3500 \nL 1563 769 \nL 2278 3500 \nL 2956 3500 \nL 3675 769 \nL 4391 3500 \nL 4966 3500 \nL 4050 0 \nL 3372 0 \nL 2619 2869 \nL 1863 0 \nL 1184 0 \nL 269 3500 \nz\n\" transform=\"scale(0.015625)\"/>\n        <path id=\"DejaVuSans-62\" d=\"M 3116 1747 \nQ 3116 2381 2855 2742 \nQ 2594 3103 2138 3103 \nQ 1681 3103 1420 2742 \nQ 1159 2381 1159 1747 \nQ 1159 1113 1420 752 \nQ 1681 391 2138 391 \nQ 2594 391 2855 752 \nQ 3116 1113 3116 1747 \nz\nM 1159 2969 \nQ 1341 3281 1617 3432 \nQ 1894 3584 2278 3584 \nQ 2916 3584 3314 3078 \nQ 3713 2572 3713 1747 \nQ 3713 922 3314 415 \nQ 2916 -91 2278 -91 \nQ 1894 -91 1617 61 \nQ 1341 213 1159 525 \nL 1159 0 \nL 581 0 \nL 581 4863 \nL 1159 4863 \nL 1159 2969 \nz\n\" transform=\"scale(0.015625)\"/>\n        <path id=\"DejaVuSans-72\" d=\"M 2631 2963 \nQ 2534 3019 2420 3045 \nQ 2306 3072 2169 3072 \nQ 1681 3072 1420 2755 \nQ 1159 2438 1159 1844 \nL 1159 0 \nL 581 0 \nL 581 3500 \nL 1159 3500 \nL 1159 2956 \nQ 1341 3275 1631 3429 \nQ 1922 3584 2338 3584 \nQ 2397 3584 2469 3576 \nQ 2541 3569 2628 3553 \nL 2631 2963 \nz\n\" transform=\"scale(0.015625)\"/>\n        <path id=\"DejaVuSans-69\" d=\"M 603 3500 \nL 1178 3500 \nL 1178 0 \nL 603 0 \nL 603 3500 \nz\nM 603 4863 \nL 1178 4863 \nL 1178 4134 \nL 603 4134 \nL 603 4863 \nz\n\" transform=\"scale(0.015625)\"/>\n        <path id=\"DejaVuSans-63\" d=\"M 3122 3366 \nL 3122 2828 \nQ 2878 2963 2633 3030 \nQ 2388 3097 2138 3097 \nQ 1578 3097 1268 2742 \nQ 959 2388 959 1747 \nQ 959 1106 1268 751 \nQ 1578 397 2138 397 \nQ 2388 397 2633 464 \nQ 2878 531 3122 666 \nL 3122 134 \nQ 2881 22 2623 -34 \nQ 2366 -91 2075 -91 \nQ 1284 -91 818 406 \nQ 353 903 353 1747 \nQ 353 2603 823 3093 \nQ 1294 3584 2113 3584 \nQ 2378 3584 2631 3529 \nQ 2884 3475 3122 3366 \nz\n\" transform=\"scale(0.015625)\"/>\n       </defs>\n       <use xlink:href=\"#DejaVuSans-79\"/>\n       <use xlink:href=\"#DejaVuSans-65\" x=\"59.179688\"/>\n       <use xlink:href=\"#DejaVuSans-6c\" x=\"120.703125\"/>\n       <use xlink:href=\"#DejaVuSans-6c\" x=\"148.486328\"/>\n       <use xlink:href=\"#DejaVuSans-6f\" x=\"176.269531\"/>\n       <use xlink:href=\"#DejaVuSans-77\" x=\"237.451172\"/>\n       <use xlink:href=\"#DejaVuSans-62\" x=\"319.238281\"/>\n       <use xlink:href=\"#DejaVuSans-72\" x=\"382.714844\"/>\n       <use xlink:href=\"#DejaVuSans-69\" x=\"423.828125\"/>\n       <use xlink:href=\"#DejaVuSans-63\" x=\"451.611328\"/>\n       <use xlink:href=\"#DejaVuSans-6b\" x=\"506.591797\"/>\n      </g>\n     </g>\n    </g>\n    <g id=\"ytick_2\">\n     <g id=\"line2d_8\">\n      <g>\n       <use xlink:href=\"#mc926268b28\" x=\"81.941875\" y=\"325.859199\" style=\"stroke: #000000; stroke-width: 0.8\"/>\n      </g>\n     </g>\n     <g id=\"text_9\">\n      <!-- geoviews -->\n      <g transform=\"translate(18.7125 330.418261) scale(0.12 -0.12)\">\n       <defs>\n        <path id=\"DejaVuSans-67\" d=\"M 2906 1791 \nQ 2906 2416 2648 2759 \nQ 2391 3103 1925 3103 \nQ 1463 3103 1205 2759 \nQ 947 2416 947 1791 \nQ 947 1169 1205 825 \nQ 1463 481 1925 481 \nQ 2391 481 2648 825 \nQ 2906 1169 2906 1791 \nz\nM 3481 434 \nQ 3481 -459 3084 -895 \nQ 2688 -1331 1869 -1331 \nQ 1566 -1331 1297 -1286 \nQ 1028 -1241 775 -1147 \nL 775 -588 \nQ 1028 -725 1275 -790 \nQ 1522 -856 1778 -856 \nQ 2344 -856 2625 -561 \nQ 2906 -266 2906 331 \nL 2906 616 \nQ 2728 306 2450 153 \nQ 2172 0 1784 0 \nQ 1141 0 747 490 \nQ 353 981 353 1791 \nQ 353 2603 747 3093 \nQ 1141 3584 1784 3584 \nQ 2172 3584 2450 3431 \nQ 2728 3278 2906 2969 \nL 2906 3500 \nL 3481 3500 \nL 3481 434 \nz\n\" transform=\"scale(0.015625)\"/>\n        <path id=\"DejaVuSans-76\" d=\"M 191 3500 \nL 800 3500 \nL 1894 563 \nL 2988 3500 \nL 3597 3500 \nL 2284 0 \nL 1503 0 \nL 191 3500 \nz\n\" transform=\"scale(0.015625)\"/>\n        <path id=\"DejaVuSans-73\" d=\"M 2834 3397 \nL 2834 2853 \nQ 2591 2978 2328 3040 \nQ 2066 3103 1784 3103 \nQ 1356 3103 1142 2972 \nQ 928 2841 928 2578 \nQ 928 2378 1081 2264 \nQ 1234 2150 1697 2047 \nL 1894 2003 \nQ 2506 1872 2764 1633 \nQ 3022 1394 3022 966 \nQ 3022 478 2636 193 \nQ 2250 -91 1575 -91 \nQ 1294 -91 989 -36 \nQ 684 19 347 128 \nL 347 722 \nQ 666 556 975 473 \nQ 1284 391 1588 391 \nQ 1994 391 2212 530 \nQ 2431 669 2431 922 \nQ 2431 1156 2273 1281 \nQ 2116 1406 1581 1522 \nL 1381 1569 \nQ 847 1681 609 1914 \nQ 372 2147 372 2553 \nQ 372 3047 722 3315 \nQ 1072 3584 1716 3584 \nQ 2034 3584 2315 3537 \nQ 2597 3491 2834 3397 \nz\n\" transform=\"scale(0.015625)\"/>\n       </defs>\n       <use xlink:href=\"#DejaVuSans-67\"/>\n       <use xlink:href=\"#DejaVuSans-65\" x=\"63.476562\"/>\n       <use xlink:href=\"#DejaVuSans-6f\" x=\"125\"/>\n       <use xlink:href=\"#DejaVuSans-76\" x=\"186.181641\"/>\n       <use xlink:href=\"#DejaVuSans-69\" x=\"245.361328\"/>\n       <use xlink:href=\"#DejaVuSans-65\" x=\"273.144531\"/>\n       <use xlink:href=\"#DejaVuSans-77\" x=\"334.667969\"/>\n       <use xlink:href=\"#DejaVuSans-73\" x=\"416.455078\"/>\n      </g>\n     </g>\n    </g>\n    <g id=\"ytick_3\">\n     <g id=\"line2d_9\">\n      <g>\n       <use xlink:href=\"#mc926268b28\" x=\"81.941875\" y=\"296.863821\" style=\"stroke: #000000; stroke-width: 0.8\"/>\n      </g>\n     </g>\n     <g id=\"text_10\">\n      <!-- hvplot -->\n      <g transform=\"translate(37.235625 301.422884) scale(0.12 -0.12)\">\n       <defs>\n        <path id=\"DejaVuSans-68\" d=\"M 3513 2113 \nL 3513 0 \nL 2938 0 \nL 2938 2094 \nQ 2938 2591 2744 2837 \nQ 2550 3084 2163 3084 \nQ 1697 3084 1428 2787 \nQ 1159 2491 1159 1978 \nL 1159 0 \nL 581 0 \nL 581 4863 \nL 1159 4863 \nL 1159 2956 \nQ 1366 3272 1645 3428 \nQ 1925 3584 2291 3584 \nQ 2894 3584 3203 3211 \nQ 3513 2838 3513 2113 \nz\n\" transform=\"scale(0.015625)\"/>\n        <path id=\"DejaVuSans-70\" d=\"M 1159 525 \nL 1159 -1331 \nL 581 -1331 \nL 581 3500 \nL 1159 3500 \nL 1159 2969 \nQ 1341 3281 1617 3432 \nQ 1894 3584 2278 3584 \nQ 2916 3584 3314 3078 \nQ 3713 2572 3713 1747 \nQ 3713 922 3314 415 \nQ 2916 -91 2278 -91 \nQ 1894 -91 1617 61 \nQ 1341 213 1159 525 \nz\nM 3116 1747 \nQ 3116 2381 2855 2742 \nQ 2594 3103 2138 3103 \nQ 1681 3103 1420 2742 \nQ 1159 2381 1159 1747 \nQ 1159 1113 1420 752 \nQ 1681 391 2138 391 \nQ 2594 391 2855 752 \nQ 3116 1113 3116 1747 \nz\n\" transform=\"scale(0.015625)\"/>\n        <path id=\"DejaVuSans-74\" d=\"M 1172 4494 \nL 1172 3500 \nL 2356 3500 \nL 2356 3053 \nL 1172 3053 \nL 1172 1153 \nQ 1172 725 1289 603 \nQ 1406 481 1766 481 \nL 2356 481 \nL 2356 0 \nL 1766 0 \nQ 1100 0 847 248 \nQ 594 497 594 1153 \nL 594 3053 \nL 172 3053 \nL 172 3500 \nL 594 3500 \nL 594 4494 \nL 1172 4494 \nz\n\" transform=\"scale(0.015625)\"/>\n       </defs>\n       <use xlink:href=\"#DejaVuSans-68\"/>\n       <use xlink:href=\"#DejaVuSans-76\" x=\"63.378906\"/>\n       <use xlink:href=\"#DejaVuSans-70\" x=\"122.558594\"/>\n       <use xlink:href=\"#DejaVuSans-6c\" x=\"186.035156\"/>\n       <use xlink:href=\"#DejaVuSans-6f\" x=\"213.818359\"/>\n       <use xlink:href=\"#DejaVuSans-74\" x=\"275\"/>\n      </g>\n     </g>\n    </g>\n    <g id=\"ytick_4\">\n     <g id=\"line2d_10\">\n      <g>\n       <use xlink:href=\"#mc926268b28\" x=\"81.941875\" y=\"267.868444\" style=\"stroke: #000000; stroke-width: 0.8\"/>\n      </g>\n     </g>\n     <g id=\"text_11\">\n      <!-- holoviews -->\n      <g transform=\"translate(15.433125 272.427506) scale(0.12 -0.12)\">\n       <use xlink:href=\"#DejaVuSans-68\"/>\n       <use xlink:href=\"#DejaVuSans-6f\" x=\"63.378906\"/>\n       <use xlink:href=\"#DejaVuSans-6c\" x=\"124.560547\"/>\n       <use xlink:href=\"#DejaVuSans-6f\" x=\"152.34375\"/>\n       <use xlink:href=\"#DejaVuSans-76\" x=\"213.525391\"/>\n       <use xlink:href=\"#DejaVuSans-69\" x=\"272.705078\"/>\n       <use xlink:href=\"#DejaVuSans-65\" x=\"300.488281\"/>\n       <use xlink:href=\"#DejaVuSans-77\" x=\"362.011719\"/>\n       <use xlink:href=\"#DejaVuSans-73\" x=\"443.798828\"/>\n      </g>\n     </g>\n    </g>\n    <g id=\"ytick_5\">\n     <g id=\"line2d_11\">\n      <g>\n       <use xlink:href=\"#mc926268b28\" x=\"81.941875\" y=\"238.873066\" style=\"stroke: #000000; stroke-width: 0.8\"/>\n      </g>\n     </g>\n     <g id=\"text_12\">\n      <!-- vega -->\n      <g transform=\"translate(45.48375 243.432129) scale(0.12 -0.12)\">\n       <defs>\n        <path id=\"DejaVuSans-61\" d=\"M 2194 1759 \nQ 1497 1759 1228 1600 \nQ 959 1441 959 1056 \nQ 959 750 1161 570 \nQ 1363 391 1709 391 \nQ 2188 391 2477 730 \nQ 2766 1069 2766 1631 \nL 2766 1759 \nL 2194 1759 \nz\nM 3341 1997 \nL 3341 0 \nL 2766 0 \nL 2766 531 \nQ 2569 213 2275 61 \nQ 1981 -91 1556 -91 \nQ 1019 -91 701 211 \nQ 384 513 384 1019 \nQ 384 1609 779 1909 \nQ 1175 2209 1959 2209 \nL 2766 2209 \nL 2766 2266 \nQ 2766 2663 2505 2880 \nQ 2244 3097 1772 3097 \nQ 1472 3097 1187 3025 \nQ 903 2953 641 2809 \nL 641 3341 \nQ 956 3463 1253 3523 \nQ 1550 3584 1831 3584 \nQ 2591 3584 2966 3190 \nQ 3341 2797 3341 1997 \nz\n\" transform=\"scale(0.015625)\"/>\n       </defs>\n       <use xlink:href=\"#DejaVuSans-76\"/>\n       <use xlink:href=\"#DejaVuSans-65\" x=\"59.179688\"/>\n       <use xlink:href=\"#DejaVuSans-67\" x=\"120.703125\"/>\n       <use xlink:href=\"#DejaVuSans-61\" x=\"184.179688\"/>\n      </g>\n     </g>\n    </g>\n    <g id=\"ytick_6\">\n     <g id=\"line2d_12\">\n      <g>\n       <use xlink:href=\"#mc926268b28\" x=\"81.941875\" y=\"209.877689\" style=\"stroke: #000000; stroke-width: 0.8\"/>\n      </g>\n     </g>\n     <g id=\"text_13\">\n      <!-- altair -->\n      <g transform=\"translate(43.929375 214.436751) scale(0.12 -0.12)\">\n       <use xlink:href=\"#DejaVuSans-61\"/>\n       <use xlink:href=\"#DejaVuSans-6c\" x=\"61.279297\"/>\n       <use xlink:href=\"#DejaVuSans-74\" x=\"89.0625\"/>\n       <use xlink:href=\"#DejaVuSans-61\" x=\"128.271484\"/>\n       <use xlink:href=\"#DejaVuSans-69\" x=\"189.550781\"/>\n       <use xlink:href=\"#DejaVuSans-72\" x=\"217.333984\"/>\n      </g>\n     </g>\n    </g>\n    <g id=\"ytick_7\">\n     <g id=\"line2d_13\">\n      <g>\n       <use xlink:href=\"#mc926268b28\" x=\"81.941875\" y=\"180.882311\" style=\"stroke: #000000; stroke-width: 0.8\"/>\n      </g>\n     </g>\n     <g id=\"text_14\">\n      <!-- geopandas -->\n      <g transform=\"translate(8.7975 185.441374) scale(0.12 -0.12)\">\n       <defs>\n        <path id=\"DejaVuSans-6e\" d=\"M 3513 2113 \nL 3513 0 \nL 2938 0 \nL 2938 2094 \nQ 2938 2591 2744 2837 \nQ 2550 3084 2163 3084 \nQ 1697 3084 1428 2787 \nQ 1159 2491 1159 1978 \nL 1159 0 \nL 581 0 \nL 581 3500 \nL 1159 3500 \nL 1159 2956 \nQ 1366 3272 1645 3428 \nQ 1925 3584 2291 3584 \nQ 2894 3584 3203 3211 \nQ 3513 2838 3513 2113 \nz\n\" transform=\"scale(0.015625)\"/>\n        <path id=\"DejaVuSans-64\" d=\"M 2906 2969 \nL 2906 4863 \nL 3481 4863 \nL 3481 0 \nL 2906 0 \nL 2906 525 \nQ 2725 213 2448 61 \nQ 2172 -91 1784 -91 \nQ 1150 -91 751 415 \nQ 353 922 353 1747 \nQ 353 2572 751 3078 \nQ 1150 3584 1784 3584 \nQ 2172 3584 2448 3432 \nQ 2725 3281 2906 2969 \nz\nM 947 1747 \nQ 947 1113 1208 752 \nQ 1469 391 1925 391 \nQ 2381 391 2643 752 \nQ 2906 1113 2906 1747 \nQ 2906 2381 2643 2742 \nQ 2381 3103 1925 3103 \nQ 1469 3103 1208 2742 \nQ 947 2381 947 1747 \nz\n\" transform=\"scale(0.015625)\"/>\n       </defs>\n       <use xlink:href=\"#DejaVuSans-67\"/>\n       <use xlink:href=\"#DejaVuSans-65\" x=\"63.476562\"/>\n       <use xlink:href=\"#DejaVuSans-6f\" x=\"125\"/>\n       <use xlink:href=\"#DejaVuSans-70\" x=\"186.181641\"/>\n       <use xlink:href=\"#DejaVuSans-61\" x=\"249.658203\"/>\n       <use xlink:href=\"#DejaVuSans-6e\" x=\"310.9375\"/>\n       <use xlink:href=\"#DejaVuSans-64\" x=\"374.316406\"/>\n       <use xlink:href=\"#DejaVuSans-61\" x=\"437.792969\"/>\n       <use xlink:href=\"#DejaVuSans-73\" x=\"499.072266\"/>\n      </g>\n     </g>\n    </g>\n    <g id=\"ytick_8\">\n     <g id=\"line2d_14\">\n      <g>\n       <use xlink:href=\"#mc926268b28\" x=\"81.941875\" y=\"151.886934\" style=\"stroke: #000000; stroke-width: 0.8\"/>\n      </g>\n     </g>\n     <g id=\"text_15\">\n      <!-- bokeh -->\n      <g transform=\"translate(38.47875 156.445996) scale(0.12 -0.12)\">\n       <use xlink:href=\"#DejaVuSans-62\"/>\n       <use xlink:href=\"#DejaVuSans-6f\" x=\"63.476562\"/>\n       <use xlink:href=\"#DejaVuSans-6b\" x=\"124.658203\"/>\n       <use xlink:href=\"#DejaVuSans-65\" x=\"178.943359\"/>\n       <use xlink:href=\"#DejaVuSans-68\" x=\"240.466797\"/>\n      </g>\n     </g>\n    </g>\n    <g id=\"ytick_9\">\n     <g id=\"line2d_15\">\n      <g>\n       <use xlink:href=\"#mc926268b28\" x=\"81.941875\" y=\"122.891556\" style=\"stroke: #000000; stroke-width: 0.8\"/>\n      </g>\n     </g>\n     <g id=\"text_16\">\n      <!-- seaborn -->\n      <g transform=\"translate(26.664375 127.450619) scale(0.12 -0.12)\">\n       <use xlink:href=\"#DejaVuSans-73\"/>\n       <use xlink:href=\"#DejaVuSans-65\" x=\"52.099609\"/>\n       <use xlink:href=\"#DejaVuSans-61\" x=\"113.623047\"/>\n       <use xlink:href=\"#DejaVuSans-62\" x=\"174.902344\"/>\n       <use xlink:href=\"#DejaVuSans-6f\" x=\"238.378906\"/>\n       <use xlink:href=\"#DejaVuSans-72\" x=\"299.560547\"/>\n       <use xlink:href=\"#DejaVuSans-6e\" x=\"338.923828\"/>\n      </g>\n     </g>\n    </g>\n    <g id=\"ytick_10\">\n     <g id=\"line2d_16\">\n      <g>\n       <use xlink:href=\"#mc926268b28\" x=\"81.941875\" y=\"93.896179\" style=\"stroke: #000000; stroke-width: 0.8\"/>\n      </g>\n     </g>\n     <g id=\"text_17\">\n      <!-- matplotlib -->\n      <g transform=\"translate(13.910625 98.455241) scale(0.12 -0.12)\">\n       <defs>\n        <path id=\"DejaVuSans-6d\" d=\"M 3328 2828 \nQ 3544 3216 3844 3400 \nQ 4144 3584 4550 3584 \nQ 5097 3584 5394 3201 \nQ 5691 2819 5691 2113 \nL 5691 0 \nL 5113 0 \nL 5113 2094 \nQ 5113 2597 4934 2840 \nQ 4756 3084 4391 3084 \nQ 3944 3084 3684 2787 \nQ 3425 2491 3425 1978 \nL 3425 0 \nL 2847 0 \nL 2847 2094 \nQ 2847 2600 2669 2842 \nQ 2491 3084 2119 3084 \nQ 1678 3084 1418 2786 \nQ 1159 2488 1159 1978 \nL 1159 0 \nL 581 0 \nL 581 3500 \nL 1159 3500 \nL 1159 2956 \nQ 1356 3278 1631 3431 \nQ 1906 3584 2284 3584 \nQ 2666 3584 2933 3390 \nQ 3200 3197 3328 2828 \nz\n\" transform=\"scale(0.015625)\"/>\n       </defs>\n       <use xlink:href=\"#DejaVuSans-6d\"/>\n       <use xlink:href=\"#DejaVuSans-61\" x=\"97.412109\"/>\n       <use xlink:href=\"#DejaVuSans-74\" x=\"158.691406\"/>\n       <use xlink:href=\"#DejaVuSans-70\" x=\"197.900391\"/>\n       <use xlink:href=\"#DejaVuSans-6c\" x=\"261.376953\"/>\n       <use xlink:href=\"#DejaVuSans-6f\" x=\"289.160156\"/>\n       <use xlink:href=\"#DejaVuSans-74\" x=\"350.341797\"/>\n       <use xlink:href=\"#DejaVuSans-6c\" x=\"389.550781\"/>\n       <use xlink:href=\"#DejaVuSans-69\" x=\"417.333984\"/>\n       <use xlink:href=\"#DejaVuSans-62\" x=\"445.117188\"/>\n      </g>\n     </g>\n    </g>\n    <g id=\"ytick_11\">\n     <g id=\"line2d_17\">\n      <g>\n       <use xlink:href=\"#mc926268b28\" x=\"81.941875\" y=\"64.900801\" style=\"stroke: #000000; stroke-width: 0.8\"/>\n      </g>\n     </g>\n     <g id=\"text_18\">\n      <!-- numpy -->\n      <g transform=\"translate(33.3225 69.459864) scale(0.12 -0.12)\">\n       <defs>\n        <path id=\"DejaVuSans-75\" d=\"M 544 1381 \nL 544 3500 \nL 1119 3500 \nL 1119 1403 \nQ 1119 906 1312 657 \nQ 1506 409 1894 409 \nQ 2359 409 2629 706 \nQ 2900 1003 2900 1516 \nL 2900 3500 \nL 3475 3500 \nL 3475 0 \nL 2900 0 \nL 2900 538 \nQ 2691 219 2414 64 \nQ 2138 -91 1772 -91 \nQ 1169 -91 856 284 \nQ 544 659 544 1381 \nz\nM 1991 3584 \nL 1991 3584 \nz\n\" transform=\"scale(0.015625)\"/>\n       </defs>\n       <use xlink:href=\"#DejaVuSans-6e\"/>\n       <use xlink:href=\"#DejaVuSans-75\" x=\"63.378906\"/>\n       <use xlink:href=\"#DejaVuSans-6d\" x=\"126.757812\"/>\n       <use xlink:href=\"#DejaVuSans-70\" x=\"224.169922\"/>\n       <use xlink:href=\"#DejaVuSans-79\" x=\"287.646484\"/>\n      </g>\n     </g>\n    </g>\n    <g id=\"ytick_12\">\n     <g id=\"line2d_18\">\n      <g>\n       <use xlink:href=\"#mc926268b28\" x=\"81.941875\" y=\"35.905424\" style=\"stroke: #000000; stroke-width: 0.8\"/>\n      </g>\n     </g>\n     <g id=\"text_19\">\n      <!-- pandas -->\n      <g transform=\"translate(31.141875 40.464486) scale(0.12 -0.12)\">\n       <use xlink:href=\"#DejaVuSans-70\"/>\n       <use xlink:href=\"#DejaVuSans-61\" x=\"63.476562\"/>\n       <use xlink:href=\"#DejaVuSans-6e\" x=\"124.755859\"/>\n       <use xlink:href=\"#DejaVuSans-64\" x=\"188.134766\"/>\n       <use xlink:href=\"#DejaVuSans-61\" x=\"251.611328\"/>\n       <use xlink:href=\"#DejaVuSans-73\" x=\"312.890625\"/>\n      </g>\n     </g>\n    </g>\n   </g>\n   <g id=\"patch_15\">\n    <path d=\"M 81.941875 383.56 \nL 81.941875 7.2 \n\" style=\"fill: none; stroke: #000000; stroke-width: 0.8; stroke-linejoin: miter; stroke-linecap: square\"/>\n   </g>\n   <g id=\"patch_16\">\n    <path d=\"M 81.941875 383.56 \nL 544.876875 383.56 \n\" style=\"fill: none; stroke: #000000; stroke-width: 0.8; stroke-linejoin: miter; stroke-linecap: square\"/>\n   </g>\n  </g>\n </g>\n <defs>\n  <clipPath id=\"pf5ead192ac\">\n   <rect x=\"81.941875\" y=\"7.2\" width=\"462.935\" height=\"376.36\"/>\n  </clipPath>\n </defs>\n</svg>\n"
          },
          "metadata": {}
        }
      ]
    },
    {
      "cell_type": "code",
      "source": [
        "#4"
      ],
      "metadata": {
        "id": "7GNxLF-EshJz"
      },
      "execution_count": null,
      "outputs": []
    },
    {
      "cell_type": "code",
      "source": [
        "#from pandas.compat.pyarrow import annotations\n",
        "def generate_plot_text(ax):\n",
        "  annotations = [\n",
        "      ax.annotate(\n",
        "      '', xy=(0, bar.get_y() + bar.get_height()/2),\n",
        "      ha='left', va='center'\n",
        "  )for bar in ax.patches\n",
        "  ]\n",
        "  time_text = ax.text(\n",
        "      0.9, 0.1, '', transform=ax.transAxes,\n",
        "      fontsize=15, ha='center', va='center'\n",
        "  )\n",
        "  return annotations, time_text"
      ],
      "metadata": {
        "id": "B6XdjX-zs4bM"
      },
      "execution_count": null,
      "outputs": []
    },
    {
      "cell_type": "code",
      "source": [
        "#5"
      ],
      "metadata": {
        "id": "vueClopVuJiH"
      },
      "execution_count": null,
      "outputs": []
    },
    {
      "cell_type": "code",
      "source": [
        "def update(frame, *, ax, df, annotations, time_text):\n",
        "  data = df.loc[frame,:]\n",
        "  \n",
        "  #updte bars\n",
        "  for rect, text in zip(ax.patches, annotations):\n",
        "    col = rect.get_label()\n",
        "    if data[col]:\n",
        "      rect.set_width(data[col])\n",
        "      text.set_x(data[col])\n",
        "      text.set_text(f'{data[col]:,.0f}')\n",
        "\n",
        "  #update time\n",
        "  time_text.set_text(frame.strftime('%b\\n%Y'))\n"
      ],
      "metadata": {
        "id": "3x0rT_EYuLkt"
      },
      "execution_count": null,
      "outputs": []
    },
    {
      "cell_type": "code",
      "source": [
        "#6"
      ],
      "metadata": {
        "id": "9Lim4jZdvTCH"
      },
      "execution_count": null,
      "outputs": []
    },
    {
      "cell_type": "code",
      "source": [
        "from pandas.core.strings.base import annotations\n",
        "from functools import partial\n",
        "\n",
        "def bar_plot_init(questions_per_library):\n",
        "  fig, ax = bar_plot(questions_per_library)\n",
        "  annotations, time_text = generate_plot_text(ax)\n",
        "\n",
        "  bar_plot_update = partial(\n",
        "      update, ax=ax, df=questions_per_library,\n",
        "      annotations=annotations, time_text=time_text\n",
        "  )\n",
        "  return fig, bar_plot_update\n"
      ],
      "metadata": {
        "id": "BTy1Id-VvVUq"
      },
      "execution_count": null,
      "outputs": []
    },
    {
      "cell_type": "code",
      "source": [
        "#7"
      ],
      "metadata": {
        "id": "ATIfcEl6wCXU"
      },
      "execution_count": null,
      "outputs": []
    },
    {
      "cell_type": "code",
      "source": [
        "fig, update_func = bar_plot_init(questions_per_library)\n",
        "\n",
        "ani= FuncAnimation(\n",
        "    fig, update_func, frames=questions_per_library.index, repeat=False\n",
        ")\n",
        "ani.save(\n",
        "    '../media/stackoverflow_question.mp4',\n",
        "    writer='ffmpeg', fps=10, bitrate=100, dpi=300\n",
        ")\n",
        "plt.close()"
      ],
      "metadata": {
        "id": "Bk6Wo0wewFi6"
      },
      "execution_count": null,
      "outputs": []
    },
    {
      "cell_type": "code",
      "source": [
        "from IPython import display\n",
        "\n",
        "display.Video(\n",
        "    '../media/stackoverflow_questions.mp4', width=600, height=400,\n",
        "    embed=True, html_attributes='controls muted autoplay'\n",
        ")"
      ],
      "metadata": {
        "colab": {
          "base_uri": "https://localhost:8080/",
          "height": 422
        },
        "id": "Nq86m2k0xr_p",
        "outputId": "1c9e17fb-10a5-4c18-94ee-99fc1d3877fa"
      },
      "execution_count": null,
      "outputs": [
        {
          "output_type": "execute_result",
          "data": {
            "text/plain": [
              "<IPython.core.display.Video object>"
            ],
            "text/html": [
              "<video controls muted autoplay  width=\"600\"  height=\"400\">\n",
              " <source src=\"data:None;base64,../media/stackoverflow_questions.mp4\" type=\"None\">\n",
              " Your browser does not support the video tag.\n",
              " </video>"
            ]
          },
          "metadata": {},
          "execution_count": 46
        }
      ]
    },
    {
      "cell_type": "code",
      "source": [
        "#Animatinf distribution over time\n",
        "#1"
      ],
      "metadata": {
        "id": "WmzSX8cVy3Qj"
      },
      "execution_count": null,
      "outputs": []
    },
    {
      "cell_type": "code",
      "source": [
        "import pandas as pd\n",
        "\n",
        "subway = pd.read_csv(\n",
        "    'NYC_subway_daily.csv', parse_dates=['Datetime'],\n",
        "    index_col=['Borough', 'Datetime']\n",
        ")\n",
        "subway_daily = subway.unstack(0)\n",
        "subway_daily.head"
      ],
      "metadata": {
        "colab": {
          "base_uri": "https://localhost:8080/"
        },
        "id": "3XgRVB7EzG0C",
        "outputId": "682700ab-09e6-4ddc-8f24-b3f717d00fab"
      },
      "execution_count": 5,
      "outputs": [
        {
          "output_type": "execute_result",
          "data": {
            "text/plain": [
              "<bound method NDFrame.head of               Entries                                    Exits            \\\n",
              "Borough            Bk        Bx          M         Q        Bk        Bx   \n",
              "Datetime                                                                   \n",
              "2017-02-04   617650.0  247539.0  1390496.0  408736.0  417449.0  148237.0   \n",
              "2017-02-05   542667.0  199078.0  1232537.0  339716.0  405607.0  139856.0   \n",
              "2017-02-06  1184916.0  472846.0  2774016.0  787206.0  761166.0  267991.0   \n",
              "2017-02-07  1192638.0  470573.0  2892462.0  790557.0  763653.0  270007.0   \n",
              "2017-02-08  1243658.0  497412.0  2998897.0  825679.0  788356.0  275695.0   \n",
              "...               ...       ...        ...       ...       ...       ...   \n",
              "2021-08-09   416964.0  176407.0   836603.0  316604.0  438273.0  168791.0   \n",
              "2021-08-10   439452.0  178417.0   889912.0  330299.0  462818.0  174888.0   \n",
              "2021-08-11   442855.0  183132.0   899173.0  331304.0  464905.0  175388.0   \n",
              "2021-08-12   438576.0  178191.0   884371.0  327306.0  463303.0  172487.0   \n",
              "2021-08-13   346768.0  151257.0   639806.0  268861.0  332156.0  121962.0   \n",
              "\n",
              "                                 \n",
              "Borough             M         Q  \n",
              "Datetime                         \n",
              "2017-02-04  1225689.0  279699.0  \n",
              "2017-02-05  1033610.0  268626.0  \n",
              "2017-02-06  2240027.0  537780.0  \n",
              "2017-02-07  2325024.0  544828.0  \n",
              "2017-02-08  2389534.0  559639.0  \n",
              "...               ...       ...  \n",
              "2021-08-09  1032724.0  322343.0  \n",
              "2021-08-10  1109777.0  339166.0  \n",
              "2021-08-11  1124608.0  337363.0  \n",
              "2021-08-12  1116445.0  332967.0  \n",
              "2021-08-13   875206.0  229383.0  \n",
              "\n",
              "[1652 rows x 8 columns]>"
            ]
          },
          "metadata": {},
          "execution_count": 5
        }
      ]
    },
    {
      "cell_type": "code",
      "source": [
        "manhattan_entries = subway_daily['Entries']['M']"
      ],
      "metadata": {
        "id": "9clhIwiB0nm1"
      },
      "execution_count": 6,
      "outputs": []
    },
    {
      "cell_type": "code",
      "source": [
        "#2"
      ],
      "metadata": {
        "id": "KtIcZmYA0zSv"
      },
      "execution_count": null,
      "outputs": []
    },
    {
      "cell_type": "code",
      "source": [
        "import numpy as np\n",
        "count_per_bin, bin_ranges = np.histogram(manhattan_entries, bins=30)"
      ],
      "metadata": {
        "id": "j5KBLGP601lN"
      },
      "execution_count": 7,
      "outputs": []
    },
    {
      "cell_type": "code",
      "source": [
        "#3"
      ],
      "metadata": {
        "id": "g5T86lpL1HBl"
      },
      "execution_count": null,
      "outputs": []
    },
    {
      "cell_type": "code",
      "source": [
        "def subway_histogram(data, bins, date_range):\n",
        "  _, bin_ranges = np.histogram(data, bins=bins)\n",
        "\n",
        "  weekday_mask = data.index.weekday < 5\n",
        "  condigs = [\n",
        "      {'label' : 'weekend', 'mask': ~weekday_mask, 'ymax': 60},\n",
        "      {'label' : 'weekend', 'mask': weekday_mask, 'ymax': 120}\n",
        "  ]\n",
        "\n",
        "  fig, axes = plt.subplots(1,2, figsize=(8,4), sharex=True)\n",
        "  for ax, config in zip(axes, config):\n",
        "    _,_, config['hist'] = ax.hist(\n",
        "        data[config['mask']].loc[date_range], bin_ranges, ec='black'\n",
        "    )\n",
        "    ax.xaxis.set_major_fotmatter(ticker.EngFormatter())\n",
        "    ax.set(\n",
        "        xlim=(0, None), ylim=(0, config['ymax']),\n",
        "        xlabel=f'{config[\"label\"]} Entires'\n",
        "    )\n",
        "    for spine in ['top', 'right']:\n",
        "      ax.spines[spine].set_visible(False)\n",
        "  axes[0].set_ylabel('Frequency')\n",
        "  fig.suptitle('Histogram of Daily Subway Entries in Manhattan')\n",
        "  fig.tight_layout()\n",
        "\n",
        "  return fig, axes, bin_ranges, configs"
      ],
      "metadata": {
        "id": "RZi4KRnr1Ib-"
      },
      "execution_count": 13,
      "outputs": []
    },
    {
      "cell_type": "code",
      "source": [
        "_= subway_histogram(manhattan_entries, bins=30, date_range='2017')"
      ],
      "metadata": {
        "colab": {
          "base_uri": "https://localhost:8080/",
          "height": 287
        },
        "id": "p4_EZL6qji-e",
        "outputId": "ac56f517-2b64-4e6b-f67e-f7da36ea7faa"
      },
      "execution_count": 14,
      "outputs": [
        {
          "output_type": "error",
          "ename": "NameError",
          "evalue": "ignored",
          "traceback": [
            "\u001b[0;31m---------------------------------------------------------------------------\u001b[0m",
            "\u001b[0;31mNameError\u001b[0m                                 Traceback (most recent call last)",
            "\u001b[0;32m<ipython-input-14-a81a0e0a1fd1>\u001b[0m in \u001b[0;36m<cell line: 1>\u001b[0;34m()\u001b[0m\n\u001b[0;32m----> 1\u001b[0;31m \u001b[0m_\u001b[0m\u001b[0;34m=\u001b[0m \u001b[0msubway_histogram\u001b[0m\u001b[0;34m(\u001b[0m\u001b[0mmanhattan_entries\u001b[0m\u001b[0;34m,\u001b[0m \u001b[0mbins\u001b[0m\u001b[0;34m=\u001b[0m\u001b[0;36m30\u001b[0m\u001b[0;34m,\u001b[0m \u001b[0mdate_range\u001b[0m\u001b[0;34m=\u001b[0m\u001b[0;34m'2017'\u001b[0m\u001b[0;34m)\u001b[0m\u001b[0;34m\u001b[0m\u001b[0;34m\u001b[0m\u001b[0m\n\u001b[0m",
            "\u001b[0;32m<ipython-input-13-48354f3248bc>\u001b[0m in \u001b[0;36msubway_histogram\u001b[0;34m(data, bins, date_range)\u001b[0m\n\u001b[1;32m      8\u001b[0m   ]\n\u001b[1;32m      9\u001b[0m \u001b[0;34m\u001b[0m\u001b[0m\n\u001b[0;32m---> 10\u001b[0;31m   \u001b[0mfig\u001b[0m\u001b[0;34m,\u001b[0m \u001b[0maxes\u001b[0m \u001b[0;34m=\u001b[0m \u001b[0mplt\u001b[0m\u001b[0;34m.\u001b[0m\u001b[0msubplots\u001b[0m\u001b[0;34m(\u001b[0m\u001b[0;36m1\u001b[0m\u001b[0;34m,\u001b[0m\u001b[0;36m2\u001b[0m\u001b[0;34m,\u001b[0m \u001b[0mfigsize\u001b[0m\u001b[0;34m=\u001b[0m\u001b[0;34m(\u001b[0m\u001b[0;36m8\u001b[0m\u001b[0;34m,\u001b[0m\u001b[0;36m4\u001b[0m\u001b[0;34m)\u001b[0m\u001b[0;34m,\u001b[0m \u001b[0msharex\u001b[0m\u001b[0;34m=\u001b[0m\u001b[0;32mTrue\u001b[0m\u001b[0;34m)\u001b[0m\u001b[0;34m\u001b[0m\u001b[0;34m\u001b[0m\u001b[0m\n\u001b[0m\u001b[1;32m     11\u001b[0m   \u001b[0;32mfor\u001b[0m \u001b[0max\u001b[0m\u001b[0;34m,\u001b[0m \u001b[0mconfig\u001b[0m \u001b[0;32min\u001b[0m \u001b[0mzip\u001b[0m\u001b[0;34m(\u001b[0m\u001b[0maxes\u001b[0m\u001b[0;34m,\u001b[0m \u001b[0mconfig\u001b[0m\u001b[0;34m)\u001b[0m\u001b[0;34m:\u001b[0m\u001b[0;34m\u001b[0m\u001b[0;34m\u001b[0m\u001b[0m\n\u001b[1;32m     12\u001b[0m     _,_, config['hist'] = ax.hist(\n",
            "\u001b[0;31mNameError\u001b[0m: name 'plt' is not defined"
          ]
        }
      ]
    },
    {
      "cell_type": "code",
      "source": [
        "def add_time_text(ax):\n",
        "  time_text = ax.text(\n",
        "      0.15, 0.9, '', transform=ax.transAxes,\n",
        "      fontsize=15, ha='center', va='center'\n",
        "  )\n",
        "  return time_text"
      ],
      "metadata": {
        "id": "gXgB3I8MnZka"
      },
      "execution_count": 15,
      "outputs": []
    },
    {
      "cell_type": "code",
      "source": [
        "def update(frame, *, data, configs, time_text, bin_ranges):\n",
        "  artists = []\n",
        "\n",
        "  time = frame.strftime('%b\\n%Y')\n",
        "  if time != time_text.get_text():\n",
        "    time_text.set_text(time)\n",
        "    artists.append(time_text)\n",
        "\n",
        "  for config in configs:\n",
        "    time_frame_mask = \\\n",
        "    (data.index > frame - pd.Timedelta(days=365)) & (data.index <= frame)\n",
        "    counts, _ = np.histogram(\n",
        "        data(time_frame_mask & config('mask')),\n",
        "        bin_ranges\n",
        "    )\n",
        "    for count, rect in zip(counts, config('hist').patches):\n",
        "      if count != rect.get_height():\n",
        "        rect.set_height(count)\n",
        "        artists.append(rect)\n",
        "        return artists"
      ],
      "metadata": {
        "id": "D0iFGaz6owA1"
      },
      "execution_count": 16,
      "outputs": []
    },
    {
      "cell_type": "code",
      "source": [
        "def histogram_init(data, bins, initial_date_range):\n",
        "  fig, axes, bin_ranges, configs = subway_histogram(data, bins, initial_date_range)\n",
        "\n",
        "  update_func = partial(\n",
        "      update, data=data, configs=configs,\n",
        "      time_text=add_time_text(axes[0]),\n",
        "      bin_ranges=bin_ranges\n",
        "  )\n",
        "  return fig, update_func"
      ],
      "metadata": {
        "id": "ZpgtX-ugqbur"
      },
      "execution_count": 18,
      "outputs": []
    },
    {
      "cell_type": "code",
      "source": [
        "fig, update_func = histogram_init(\n",
        "    manhattan_entries, bins=30, initial_date_range=slice('2017', '2019-07')\n",
        ")\n",
        "ani = FunAnimation(\n",
        "    fig, update_func, frames=manhattan_entries['2019-08' : '2021'].index,\n",
        "    repeat=False, blit=True\n",
        ")\n",
        "ani.save(\n",
        "    '../media.subway_entries_subplots.mp4',\n",
        "    writer='ffmpeq', fps=30, bitrate=500, dpi=300\n",
        ")\n",
        "plt.close()"
      ],
      "metadata": {
        "colab": {
          "base_uri": "https://localhost:8080/",
          "height": 381
        },
        "id": "Cmred6MqrI6Q",
        "outputId": "5a7ce98a-6e67-4a46-970d-64122eb6ef3e"
      },
      "execution_count": 20,
      "outputs": [
        {
          "output_type": "error",
          "ename": "NameError",
          "evalue": "ignored",
          "traceback": [
            "\u001b[0;31m---------------------------------------------------------------------------\u001b[0m",
            "\u001b[0;31mNameError\u001b[0m                                 Traceback (most recent call last)",
            "\u001b[0;32m<ipython-input-20-0e2dc8345b24>\u001b[0m in \u001b[0;36m<cell line: 1>\u001b[0;34m()\u001b[0m\n\u001b[0;32m----> 1\u001b[0;31m fig, update_func = histogram_init(\n\u001b[0m\u001b[1;32m      2\u001b[0m     \u001b[0mmanhattan_entries\u001b[0m\u001b[0;34m,\u001b[0m \u001b[0mbins\u001b[0m\u001b[0;34m=\u001b[0m\u001b[0;36m30\u001b[0m\u001b[0;34m,\u001b[0m \u001b[0minitial_date_range\u001b[0m\u001b[0;34m=\u001b[0m\u001b[0mslice\u001b[0m\u001b[0;34m(\u001b[0m\u001b[0;34m'2017'\u001b[0m\u001b[0;34m,\u001b[0m \u001b[0;34m'2019-07'\u001b[0m\u001b[0;34m)\u001b[0m\u001b[0;34m\u001b[0m\u001b[0;34m\u001b[0m\u001b[0m\n\u001b[1;32m      3\u001b[0m )\n\u001b[1;32m      4\u001b[0m ani = FunAnimation(\n\u001b[1;32m      5\u001b[0m     \u001b[0mfig\u001b[0m\u001b[0;34m,\u001b[0m \u001b[0mupdate_func\u001b[0m\u001b[0;34m,\u001b[0m \u001b[0mframes\u001b[0m\u001b[0;34m=\u001b[0m\u001b[0mmanhattan_entries\u001b[0m\u001b[0;34m[\u001b[0m\u001b[0;34m'2019-08'\u001b[0m \u001b[0;34m:\u001b[0m \u001b[0;34m'2021'\u001b[0m\u001b[0;34m]\u001b[0m\u001b[0;34m.\u001b[0m\u001b[0mindex\u001b[0m\u001b[0;34m,\u001b[0m\u001b[0;34m\u001b[0m\u001b[0;34m\u001b[0m\u001b[0m\n",
            "\u001b[0;32m<ipython-input-18-0e4bc94f6998>\u001b[0m in \u001b[0;36mhistogram_init\u001b[0;34m(data, bins, initial_date_range)\u001b[0m\n\u001b[1;32m      1\u001b[0m \u001b[0;32mdef\u001b[0m \u001b[0mhistogram_init\u001b[0m\u001b[0;34m(\u001b[0m\u001b[0mdata\u001b[0m\u001b[0;34m,\u001b[0m \u001b[0mbins\u001b[0m\u001b[0;34m,\u001b[0m \u001b[0minitial_date_range\u001b[0m\u001b[0;34m)\u001b[0m\u001b[0;34m:\u001b[0m\u001b[0;34m\u001b[0m\u001b[0;34m\u001b[0m\u001b[0m\n\u001b[0;32m----> 2\u001b[0;31m   \u001b[0mfig\u001b[0m\u001b[0;34m,\u001b[0m \u001b[0maxes\u001b[0m\u001b[0;34m,\u001b[0m \u001b[0mbin_ranges\u001b[0m\u001b[0;34m,\u001b[0m \u001b[0mconfigs\u001b[0m \u001b[0;34m=\u001b[0m \u001b[0msubway_histogram\u001b[0m\u001b[0;34m(\u001b[0m\u001b[0mdata\u001b[0m\u001b[0;34m,\u001b[0m \u001b[0mbins\u001b[0m\u001b[0;34m,\u001b[0m \u001b[0minitial_date_range\u001b[0m\u001b[0;34m)\u001b[0m\u001b[0;34m\u001b[0m\u001b[0;34m\u001b[0m\u001b[0m\n\u001b[0m\u001b[1;32m      3\u001b[0m \u001b[0;34m\u001b[0m\u001b[0m\n\u001b[1;32m      4\u001b[0m   update_func = partial(\n\u001b[1;32m      5\u001b[0m       \u001b[0mupdate\u001b[0m\u001b[0;34m,\u001b[0m \u001b[0mdata\u001b[0m\u001b[0;34m=\u001b[0m\u001b[0mdata\u001b[0m\u001b[0;34m,\u001b[0m \u001b[0mconfigs\u001b[0m\u001b[0;34m=\u001b[0m\u001b[0mconfigs\u001b[0m\u001b[0;34m,\u001b[0m\u001b[0;34m\u001b[0m\u001b[0;34m\u001b[0m\u001b[0m\n",
            "\u001b[0;32m<ipython-input-13-48354f3248bc>\u001b[0m in \u001b[0;36msubway_histogram\u001b[0;34m(data, bins, date_range)\u001b[0m\n\u001b[1;32m      8\u001b[0m   ]\n\u001b[1;32m      9\u001b[0m \u001b[0;34m\u001b[0m\u001b[0m\n\u001b[0;32m---> 10\u001b[0;31m   \u001b[0mfig\u001b[0m\u001b[0;34m,\u001b[0m \u001b[0maxes\u001b[0m \u001b[0;34m=\u001b[0m \u001b[0mplt\u001b[0m\u001b[0;34m.\u001b[0m\u001b[0msubplots\u001b[0m\u001b[0;34m(\u001b[0m\u001b[0;36m1\u001b[0m\u001b[0;34m,\u001b[0m\u001b[0;36m2\u001b[0m\u001b[0;34m,\u001b[0m \u001b[0mfigsize\u001b[0m\u001b[0;34m=\u001b[0m\u001b[0;34m(\u001b[0m\u001b[0;36m8\u001b[0m\u001b[0;34m,\u001b[0m\u001b[0;36m4\u001b[0m\u001b[0;34m)\u001b[0m\u001b[0;34m,\u001b[0m \u001b[0msharex\u001b[0m\u001b[0;34m=\u001b[0m\u001b[0;32mTrue\u001b[0m\u001b[0;34m)\u001b[0m\u001b[0;34m\u001b[0m\u001b[0;34m\u001b[0m\u001b[0m\n\u001b[0m\u001b[1;32m     11\u001b[0m   \u001b[0;32mfor\u001b[0m \u001b[0max\u001b[0m\u001b[0;34m,\u001b[0m \u001b[0mconfig\u001b[0m \u001b[0;32min\u001b[0m \u001b[0mzip\u001b[0m\u001b[0;34m(\u001b[0m\u001b[0maxes\u001b[0m\u001b[0;34m,\u001b[0m \u001b[0mconfig\u001b[0m\u001b[0;34m)\u001b[0m\u001b[0;34m:\u001b[0m\u001b[0;34m\u001b[0m\u001b[0;34m\u001b[0m\u001b[0m\n\u001b[1;32m     12\u001b[0m     _,_, config['hist'] = ax.hist(\n",
            "\u001b[0;31mNameError\u001b[0m: name 'plt' is not defined"
          ]
        }
      ]
    },
    {
      "cell_type": "code",
      "source": [],
      "metadata": {
        "id": "qFxuY07lsp3f"
      },
      "execution_count": null,
      "outputs": []
    }
  ]
}